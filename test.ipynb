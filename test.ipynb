{
 "cells": [
  {
   "cell_type": "code",
   "execution_count": 1,
   "metadata": {},
   "outputs": [
    {
     "name": "stderr",
     "output_type": "stream",
     "text": [
      "[nltk_data] Downloading package stopwords to\n",
      "[nltk_data]     C:\\Users\\gangw\\AppData\\Roaming\\nltk_data...\n",
      "[nltk_data]   Package stopwords is already up-to-date!\n"
     ]
    }
   ],
   "source": [
    "import pandas as pd\n",
    "import numpy as np\n",
    "import os\n",
    "import yaml\n",
    "import nltk\n",
    "from nltk.corpus import stopwords\n",
    "nltk.download('stopwords')\n",
    "import spacy\n",
    "from sklearn.feature_extraction.text import CountVectorizer\n",
    "from sklearn.metrics.pairwise import cosine_similarity"
   ]
  },
  {
   "cell_type": "code",
   "execution_count": 2,
   "metadata": {},
   "outputs": [],
   "source": [
    "def preprocess_large_text(texts):\n",
    "    nlp = spacy.load(\"en_core_web_sm\")\n",
    "    docs = nlp.pipe(texts, batch_size=10000, n_process=-1, disable=[\"ner\", \"parser\"])\n",
    "    return [\n",
    "        \" \".join([token.lemma_ for token in doc if token.is_alpha and not token.is_stop])\n",
    "        for doc in docs\n",
    "    ]\n",
    "\n",
    "def preprocess_data(data):\n",
    "    data.dropna(subset=['title'])\n",
    "    drop_cols = [\n",
    "        'id', \n",
    "        'vote_average', \n",
    "        'vote_count', \n",
    "        'status', \n",
    "        'release_date', \n",
    "        'revenue', \n",
    "        'runtime', \n",
    "        'budget', \n",
    "        'imdb_id', \n",
    "        'original_language', \n",
    "        'original_title', \n",
    "        'popularity', \n",
    "        'imdb_rating', \n",
    "        'imdb_votes', \n",
    "        'tagline', \n",
    "        'music_composer', \n",
    "        'director_of_photography'\n",
    "        ]\n",
    "    data.drop(columns=drop_cols, inplace=True)\n",
    "    data.production_companies = data.production_companies.str.replace(\" \", \"\").str.replace(\",\", \" \")\n",
    "    data.production_countries = data.production_countries.str.replace(\" \", \"\").str.replace(\",\", \" \")\n",
    "    data.spoken_languages = data.spoken_languages.str.replace(\" \", \"\").str.replace(\",\", \" \")\n",
    "    data.cast = data.cast.str.replace(\" \", \"\").str.replace(\",\", \" \")\n",
    "    data.director = data.director.str.replace(\" \", \"\").str.replace(\",\", \" \")\n",
    "    data.writers = data.writers.str.replace(\" \", \"\").str.replace(\",\", \" \")\n",
    "    data.producers = data.producers.str.replace(\" \", \"\").str.replace(\",\", \" \")\n",
    "    data.genres = data.genres.str.replace(\" \", \"\").str.replace(\",\", \" \")\n",
    "    \n",
    "    data[\"Tags\"] = data.title + \" \" + data.overview + \" \" + data.genres + \" \" + data.production_companies + \" \" + data.production_countries + \" \" + data.spoken_languages + \" \" + data.cast + \" \" + data.director + \" \" + data.writers + \" \" + data.producers\n",
    "    data = data[[\"title\", \"Tags\", \"poster_path\"]]\n",
    "    data['Tags'] = data['Tags'].astype(str)\n",
    "    data[\"Tags\"] = data.Tags.str.replace(r\"[^\\p{L}\\s]\", \"\").str.lower()\n",
    "    data['Processed_Tags'] = preprocess_large_text(data['Tags'])\n",
    "    return data\n",
    "\n",
    "def lemmatize_text(text):\n",
    "    lemmatizer = nltk.stem.WordNetLemmatizer()\n",
    "    tokenizer = nltk.tokenize.WhitespaceTokenizer()\n",
    "    return [lemmatizer.lemmatize(w) for w in tokenizer.tokenize(text) if w not in stopwords.words('english')]\n",
    "\n",
    "def fetch_poster(path):\n",
    "    return \"https://image.tmdb.org/t/p/original/\"+path"
   ]
  },
  {
   "cell_type": "code",
   "execution_count": 3,
   "metadata": {},
   "outputs": [],
   "source": [
    "def main():\n",
    "    global params\n",
    "    with open('params.yaml', 'r') as file:\n",
    "        params = yaml.safe_load(file)\n",
    "\n",
    "    df = pd.read_csv(params[\"data_path\"])\n",
    "    df_preprocessed = preprocess_data(df)\n",
    "    \n",
    "    cv = CountVectorizer(max_df=0.5, min_df=100, max_features=100000,stop_words='english')\n",
    "    vector = cv.fit_transform(df_preprocessed['Processed_Tags']).toarray()\n",
    "    similarity = cosine_similarity(vector)\n",
    "    \n",
    "    return df_preprocessed"
   ]
  },
  {
   "cell_type": "code",
   "execution_count": null,
   "metadata": {},
   "outputs": [
    {
     "name": "stderr",
     "output_type": "stream",
     "text": [
      "C:\\Users\\gangw\\AppData\\Local\\Temp\\ipykernel_19056\\3639463066.py:42: SettingWithCopyWarning: \n",
      "A value is trying to be set on a copy of a slice from a DataFrame.\n",
      "Try using .loc[row_indexer,col_indexer] = value instead\n",
      "\n",
      "See the caveats in the documentation: https://pandas.pydata.org/pandas-docs/stable/user_guide/indexing.html#returning-a-view-versus-a-copy\n",
      "  data['Tags'] = data['Tags'].astype(str)\n",
      "C:\\Users\\gangw\\AppData\\Local\\Temp\\ipykernel_19056\\3639463066.py:43: SettingWithCopyWarning: \n",
      "A value is trying to be set on a copy of a slice from a DataFrame.\n",
      "Try using .loc[row_indexer,col_indexer] = value instead\n",
      "\n",
      "See the caveats in the documentation: https://pandas.pydata.org/pandas-docs/stable/user_guide/indexing.html#returning-a-view-versus-a-copy\n",
      "  data[\"Tags\"] = data.Tags.str.replace(r\"[^\\p{L}\\s]\", \"\").str.lower()\n"
     ]
    }
   ],
   "source": [
    "result = main()"
   ]
  },
  {
   "cell_type": "code",
   "execution_count": null,
   "metadata": {},
   "outputs": [],
   "source": []
  }
 ],
 "metadata": {
  "kernelspec": {
   "display_name": "mrsvenv",
   "language": "python",
   "name": "python3"
  },
  "language_info": {
   "codemirror_mode": {
    "name": "ipython",
    "version": 3
   },
   "file_extension": ".py",
   "mimetype": "text/x-python",
   "name": "python",
   "nbconvert_exporter": "python",
   "pygments_lexer": "ipython3",
   "version": "3.10.11"
  }
 },
 "nbformat": 4,
 "nbformat_minor": 2
}
