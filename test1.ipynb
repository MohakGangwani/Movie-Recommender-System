{
 "cells": [
  {
   "cell_type": "code",
   "execution_count": 1,
   "metadata": {},
   "outputs": [
    {
     "name": "stderr",
     "output_type": "stream",
     "text": [
      "[nltk_data] Downloading package stopwords to\n",
      "[nltk_data]     /home/mohakgangwani/nltk_data...\n",
      "[nltk_data]   Package stopwords is already up-to-date!\n"
     ]
    }
   ],
   "source": [
    "import pandas as pd\n",
    "from src.utils import *"
   ]
  },
  {
   "cell_type": "code",
   "execution_count": 4,
   "metadata": {},
   "outputs": [],
   "source": [
    "a = {0:'1', 1:'2'}"
   ]
  },
  {
   "cell_type": "code",
   "execution_count": 7,
   "metadata": {},
   "outputs": [
    {
     "data": {
      "text/plain": [
       "[0]"
      ]
     },
     "execution_count": 7,
     "metadata": {},
     "output_type": "execute_result"
    }
   ],
   "source": [
    "list(a.keys())[:1]"
   ]
  },
  {
   "cell_type": "code",
   "execution_count": 3,
   "metadata": {},
   "outputs": [
    {
     "name": "stdout",
     "output_type": "stream",
     "text": [
      "Loading similarity model from models/similarity_model.pkl\n"
     ]
    }
   ],
   "source": [
    "nn = get_sim_model(None, load_params())"
   ]
  },
  {
   "cell_type": "code",
   "execution_count": 2,
   "metadata": {},
   "outputs": [
    {
     "name": "stdout",
     "output_type": "stream",
     "text": [
      "Loading preprocessed data from Data/preprocessed_data.pkl\n"
     ]
    }
   ],
   "source": [
    "df = load_preprocess_data(load_params())"
   ]
  },
  {
   "cell_type": "code",
   "execution_count": 3,
   "metadata": {},
   "outputs": [
    {
     "data": {
      "text/plain": [
       "0                   https://image.tmdb.org/t/p/originalAriel\n",
       "1          https://image.tmdb.org/t/p/originalShadows in ...\n",
       "2              https://image.tmdb.org/t/p/originalFour Rooms\n",
       "3          https://image.tmdb.org/t/p/originalJudgment Night\n",
       "4          https://image.tmdb.org/t/p/originalLife in Loo...\n",
       "                                 ...                        \n",
       "1025020                                            The Salon\n",
       "1025021                                       Pula Nga Panyo\n",
       "1025022                                           Sněžná noc\n",
       "1025023                                       Sudanese Smoke\n",
       "1025024                                                Mimic\n",
       "Name: title, Length: 1025025, dtype: object"
      ]
     },
     "execution_count": 3,
     "metadata": {},
     "output_type": "execute_result"
    }
   ],
   "source": [
    "df['title']"
   ]
  },
  {
   "cell_type": "code",
   "execution_count": 3,
   "metadata": {},
   "outputs": [],
   "source": [
    "df.loc[~df[\"poster_path\"].isnull()]+=\"https://image.tmdb.org/t/p/original\""
   ]
  },
  {
   "cell_type": "code",
   "execution_count": 5,
   "metadata": {},
   "outputs": [
    {
     "data": {
      "text/plain": [
       "0          /ojDg0PGvs6R9xYFodRct2kdI6wC.jpghttps://image....\n",
       "1          /nj01hspawPof0mJmlgfjuLyJuRN.jpghttps://image....\n",
       "2          /75aHn1NOYXh4M7L5shoeQ6NGykP.jpghttps://image....\n",
       "3          /3rvvpS9YPM5HB2f4HYiNiJVtdam.jpghttps://image....\n",
       "4          /7ln81BRnPR2wqxuITZxEciCe1lc.jpghttps://image....\n",
       "                                 ...                        \n",
       "1025030                                                     \n",
       "1025031                                                     \n",
       "1025032                                                     \n",
       "1025033                                                     \n",
       "1025034                                                     \n",
       "Name: poster_path, Length: 1025025, dtype: object"
      ]
     },
     "execution_count": 5,
     "metadata": {},
     "output_type": "execute_result"
    }
   ],
   "source": [
    "df['poster_path'].fillna(\"\")"
   ]
  },
  {
   "cell_type": "code",
   "execution_count": 5,
   "metadata": {},
   "outputs": [
    {
     "name": "stdout",
     "output_type": "stream",
     "text": [
      "Loading vector from models/vector.pkl\n"
     ]
    }
   ],
   "source": [
    "vector = get_vector(None, load_params())"
   ]
  },
  {
   "cell_type": "code",
   "execution_count": null,
   "metadata": {},
   "outputs": [],
   "source": []
  },
  {
   "cell_type": "code",
   "execution_count": 6,
   "metadata": {},
   "outputs": [
    {
     "data": {
      "text/html": [
       "<div>\n",
       "<style scoped>\n",
       "    .dataframe tbody tr th:only-of-type {\n",
       "        vertical-align: middle;\n",
       "    }\n",
       "\n",
       "    .dataframe tbody tr th {\n",
       "        vertical-align: top;\n",
       "    }\n",
       "\n",
       "    .dataframe thead th {\n",
       "        text-align: right;\n",
       "    }\n",
       "</style>\n",
       "<table border=\"1\" class=\"dataframe\">\n",
       "  <thead>\n",
       "    <tr style=\"text-align: right;\">\n",
       "      <th></th>\n",
       "      <th>title</th>\n",
       "      <th>Tags</th>\n",
       "      <th>poster_path</th>\n",
       "      <th>Processed_Tags</th>\n",
       "    </tr>\n",
       "  </thead>\n",
       "  <tbody>\n",
       "    <tr>\n",
       "      <th>434</th>\n",
       "      <td>Spider-Man</td>\n",
       "      <td>spider-man after being bitten by a genetically...</td>\n",
       "      <td>/gh4cZbhZxyTbgxQPxD0dOudNPTn.jpg</td>\n",
       "      <td>spider man bite genetically alter spider oscor...</td>\n",
       "    </tr>\n",
       "    <tr>\n",
       "      <th>435</th>\n",
       "      <td>Spider-Man 2</td>\n",
       "      <td>spider-man 2 peter parker is going through a m...</td>\n",
       "      <td>/olxpyq9kJAZ2NU1siLshhhXEPR7.jpg</td>\n",
       "      <td>spider man peter parker go major identity cris...</td>\n",
       "    </tr>\n",
       "    <tr>\n",
       "      <th>436</th>\n",
       "      <td>Spider-Man 3</td>\n",
       "      <td>spider-man 3 the seemingly invincible spider-m...</td>\n",
       "      <td>/qFmwhVUoUSXjkKRmca5yGDEXBIj.jpg</td>\n",
       "      <td>spider man seemingly invincible spider man go ...</td>\n",
       "    </tr>\n",
       "    <tr>\n",
       "      <th>1294</th>\n",
       "      <td>The Amazing Spider-Man</td>\n",
       "      <td>the amazing spider-man peter parker is an outc...</td>\n",
       "      <td>/BgcvtsVWLQfjHD6Dr3YYgeSLYk.jpg</td>\n",
       "      <td>amazing spider man peter parker outcast high s...</td>\n",
       "    </tr>\n",
       "    <tr>\n",
       "      <th>33033</th>\n",
       "      <td>Spider-Man: The Ultimate Villain Showdown</td>\n",
       "      <td>spider-man: the ultimate villain showdown spid...</td>\n",
       "      <td>/lCf91jiFiPC8lJ4tu9NqZN0v7ob.jpg</td>\n",
       "      <td>spider man ultimate villain showdown spider ma...</td>\n",
       "    </tr>\n",
       "    <tr>\n",
       "      <th>...</th>\n",
       "      <td>...</td>\n",
       "      <td>...</td>\n",
       "      <td>...</td>\n",
       "      <td>...</td>\n",
       "    </tr>\n",
       "    <tr>\n",
       "      <th>1005420</th>\n",
       "      <td>The Amazing Adventures of Spider-Man</td>\n",
       "      <td>the amazing adventures of spider-man spider-ma...</td>\n",
       "      <td>/1JbjwRn9re6uW2i1TEWdCbLcQu9.jpg</td>\n",
       "      <td>amazing adventure spider man spider man stop s...</td>\n",
       "    </tr>\n",
       "    <tr>\n",
       "      <th>1007750</th>\n",
       "      <td>Spider-Man: Lotus</td>\n",
       "      <td>spider-man: lotus</td>\n",
       "      <td>/tJUxPolNld7DBSZVooIaMaD0uwV.jpg</td>\n",
       "      <td>spider man lotus</td>\n",
       "    </tr>\n",
       "    <tr>\n",
       "      <th>1012209</th>\n",
       "      <td>Spider-Man: Lotus</td>\n",
       "      <td>spider-man: lotus following the tragic death o...</td>\n",
       "      <td>/3itKzuMOQ7O0WHHiLPXdhXmFv88.jpg</td>\n",
       "      <td>spider man lotus follow tragic death girlfrien...</td>\n",
       "    </tr>\n",
       "    <tr>\n",
       "      <th>1014729</th>\n",
       "      <td>Spider-Man &amp; The Spider-Verse Revolution</td>\n",
       "      <td>spider-man &amp; the spider-verse revolution celeb...</td>\n",
       "      <td>/wAIdZh7hdJIEXkmunbSBwQcAy8A.jpg</td>\n",
       "      <td>spider man spider verse revolution celebrate f...</td>\n",
       "    </tr>\n",
       "    <tr>\n",
       "      <th>1020269</th>\n",
       "      <td>Spider-Man</td>\n",
       "      <td>spider-man after being bitten by a genetically...</td>\n",
       "      <td>/qFomxiOaP7lkdlELYOwkpgk1uic.jpg</td>\n",
       "      <td>spider man bite genetically alter spider oscor...</td>\n",
       "    </tr>\n",
       "  </tbody>\n",
       "</table>\n",
       "<p>132 rows × 4 columns</p>\n",
       "</div>"
      ],
      "text/plain": [
       "                                             title  \\\n",
       "434                                     Spider-Man   \n",
       "435                                   Spider-Man 2   \n",
       "436                                   Spider-Man 3   \n",
       "1294                        The Amazing Spider-Man   \n",
       "33033    Spider-Man: The Ultimate Villain Showdown   \n",
       "...                                            ...   \n",
       "1005420       The Amazing Adventures of Spider-Man   \n",
       "1007750                          Spider-Man: Lotus   \n",
       "1012209                          Spider-Man: Lotus   \n",
       "1014729   Spider-Man & The Spider-Verse Revolution   \n",
       "1020269                                 Spider-Man   \n",
       "\n",
       "                                                      Tags  \\\n",
       "434      spider-man after being bitten by a genetically...   \n",
       "435      spider-man 2 peter parker is going through a m...   \n",
       "436      spider-man 3 the seemingly invincible spider-m...   \n",
       "1294     the amazing spider-man peter parker is an outc...   \n",
       "33033    spider-man: the ultimate villain showdown spid...   \n",
       "...                                                    ...   \n",
       "1005420  the amazing adventures of spider-man spider-ma...   \n",
       "1007750                         spider-man: lotus            \n",
       "1012209  spider-man: lotus following the tragic death o...   \n",
       "1014729  spider-man & the spider-verse revolution celeb...   \n",
       "1020269  spider-man after being bitten by a genetically...   \n",
       "\n",
       "                              poster_path  \\\n",
       "434      /gh4cZbhZxyTbgxQPxD0dOudNPTn.jpg   \n",
       "435      /olxpyq9kJAZ2NU1siLshhhXEPR7.jpg   \n",
       "436      /qFmwhVUoUSXjkKRmca5yGDEXBIj.jpg   \n",
       "1294      /BgcvtsVWLQfjHD6Dr3YYgeSLYk.jpg   \n",
       "33033    /lCf91jiFiPC8lJ4tu9NqZN0v7ob.jpg   \n",
       "...                                   ...   \n",
       "1005420  /1JbjwRn9re6uW2i1TEWdCbLcQu9.jpg   \n",
       "1007750  /tJUxPolNld7DBSZVooIaMaD0uwV.jpg   \n",
       "1012209  /3itKzuMOQ7O0WHHiLPXdhXmFv88.jpg   \n",
       "1014729  /wAIdZh7hdJIEXkmunbSBwQcAy8A.jpg   \n",
       "1020269  /qFomxiOaP7lkdlELYOwkpgk1uic.jpg   \n",
       "\n",
       "                                            Processed_Tags  \n",
       "434      spider man bite genetically alter spider oscor...  \n",
       "435      spider man peter parker go major identity cris...  \n",
       "436      spider man seemingly invincible spider man go ...  \n",
       "1294     amazing spider man peter parker outcast high s...  \n",
       "33033    spider man ultimate villain showdown spider ma...  \n",
       "...                                                    ...  \n",
       "1005420  amazing adventure spider man spider man stop s...  \n",
       "1007750                                   spider man lotus  \n",
       "1012209  spider man lotus follow tragic death girlfrien...  \n",
       "1014729  spider man spider verse revolution celebrate f...  \n",
       "1020269  spider man bite genetically alter spider oscor...  \n",
       "\n",
       "[132 rows x 4 columns]"
      ]
     },
     "execution_count": 6,
     "metadata": {},
     "output_type": "execute_result"
    }
   ],
   "source": [
    "df[df.title.str.contains(\"Spider-Man\")]"
   ]
  },
  {
   "cell_type": "code",
   "execution_count": 8,
   "metadata": {},
   "outputs": [],
   "source": [
    "a = nn.kneighbors(vector[434], n_neighbors=6, return_distance=False)"
   ]
  },
  {
   "cell_type": "code",
   "execution_count": 15,
   "metadata": {},
   "outputs": [
    {
     "name": "stdout",
     "output_type": "stream",
     "text": [
      "434\n",
      "1020260\n",
      "436\n",
      "957690\n",
      "435\n",
      "582112\n"
     ]
    }
   ],
   "source": [
    "for i in a.flatten()"
   ]
  },
  {
   "cell_type": "code",
   "execution_count": 73,
   "metadata": {},
   "outputs": [
    {
     "data": {
      "text/plain": [
       "title                                                  Spider-Mania\n",
       "Tags              spider-mania e! entertainment special on the m...\n",
       "poster_path                        /sjQ0RGuhsAl3PgrbuuiQ4BkhNUT.jpg\n",
       "Processed_Tags    spider mania e entertainment special making sa...\n",
       "Name: 582113, dtype: object"
      ]
     },
     "execution_count": 73,
     "metadata": {},
     "output_type": "execute_result"
    }
   ],
   "source": [
    "df.iloc[582112, :]"
   ]
  },
  {
   "cell_type": "code",
   "execution_count": null,
   "metadata": {},
   "outputs": [],
   "source": []
  }
 ],
 "metadata": {
  "kernelspec": {
   "display_name": "mrsvenv",
   "language": "python",
   "name": "python3"
  },
  "language_info": {
   "codemirror_mode": {
    "name": "ipython",
    "version": 3
   },
   "file_extension": ".py",
   "mimetype": "text/x-python",
   "name": "python",
   "nbconvert_exporter": "python",
   "pygments_lexer": "ipython3",
   "version": "3.12.3"
  }
 },
 "nbformat": 4,
 "nbformat_minor": 4
}
